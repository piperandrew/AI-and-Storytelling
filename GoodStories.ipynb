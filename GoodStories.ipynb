{
 "cells": [
  {
   "attachments": {},
   "cell_type": "markdown",
   "id": "46273a7e-4863-42ba-8b34-c642a0ac2350",
   "metadata": {},
   "source": [
    "# Exploring Good Stories with Language Models"
   ]
  },
  {
   "cell_type": "markdown",
   "id": "52fb5a94-8841-4497-a919-d99fe8b7d52a",
   "metadata": {},
   "source": [
    "In this exercise we will be using a dataset of artificially crafted (boring) stories. The goal is to see if we can improve them using prompts based on Bunn's guide to being a good writer. We are going to divide our narrative dimensions into two categories: Sequential and Global. Sequential address the issue of narrative progression, while global address issues that the entire story taken together communicates.\n",
    "\n",
    "Your job is to build a notebook that takes a story as input and then create a series of prompts to improve the story by getting the LLM to focus on the dimensions below. You must address all dimensions in your notebook and team report. Test multiple stories and for each dimension assess the quality of the LLM's ability to model that concept. Discuss strengths and weaknesses of the model and use examples to support your point. You won't be able to discuss all dimensions in your write-up so be focused. Submit your notebook along with your report this week."
   ]
  },
  {
   "cell_type": "markdown",
   "id": "13a466c8-8b7d-492e-8660-715e1bd73d5d",
   "metadata": {},
   "source": [
    "## Sequential Dimensions"
   ]
  },
  {
   "cell_type": "markdown",
   "id": "c816b552-54f9-482f-b6af-43ac22c7b332",
   "metadata": {},
   "source": [
    "1. Set the scene\n",
    "2. Inciting incident\n",
    "3. Rising Action\n",
    "4. Climax (choose one)\n",
    "   - epiphany\n",
    "   - moral choice\n",
    "   - decisive action\n",
    "   - emotional release"
   ]
  },
  {
   "cell_type": "markdown",
   "id": "0285731f-66ad-4570-ac3c-0c717d7c3db5",
   "metadata": {},
   "source": [
    "## Global Dimensions"
   ]
  },
  {
   "cell_type": "markdown",
   "id": "01d494ae-1783-4025-b142-27dae25dca6b",
   "metadata": {},
   "source": [
    "1. Does it respect the three unities: single time, place, coherence of actions\n",
    "2. Do you feel like you are there?\n",
    "3. How much tension is there?\n",
    "4. Is there an element of strangeness?\n",
    "5. Is there a significant change or turning point?\n",
    "6. Is insight achieved?\n",
    "7. Is there a unified emotion governing the story?\n",
    "8. Are there meaningful shifts in valence (positive/negative)?"
   ]
  },
  {
   "cell_type": "markdown",
   "id": "0416eab9-9801-464d-b0e0-998d19085760",
   "metadata": {},
   "source": [
    "Good luck!"
   ]
  },
  {
   "cell_type": "code",
   "execution_count": null,
   "id": "0e50707b-6197-4f5d-acc1-1df6a9ed9f7c",
   "metadata": {},
   "outputs": [],
   "source": []
  }
 ],
 "metadata": {
  "kernelspec": {
   "display_name": "Python 3 (ipykernel)",
   "language": "python",
   "name": "python3"
  },
  "language_info": {
   "codemirror_mode": {
    "name": "ipython",
    "version": 3
   },
   "file_extension": ".py",
   "mimetype": "text/x-python",
   "name": "python",
   "nbconvert_exporter": "python",
   "pygments_lexer": "ipython3",
   "version": "3.12.1"
  }
 },
 "nbformat": 4,
 "nbformat_minor": 5
}
