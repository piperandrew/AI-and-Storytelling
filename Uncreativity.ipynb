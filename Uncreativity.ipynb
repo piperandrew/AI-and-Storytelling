{
 "cells": [
  {
   "attachments": {},
   "cell_type": "markdown",
   "id": "46273a7e-4863-42ba-8b34-c642a0ac2350",
   "metadata": {},
   "source": [
    "# Exploring (Un)originality with Language Models"
   ]
  },
  {
   "attachments": {},
   "cell_type": "markdown",
   "id": "3cbb65cc-5237-4109-b8d5-906ccfb5ee13",
   "metadata": {},
   "source": [
    "Investigate how language models handle uncreative writing as defined by Kenneth Goldsmith. Examine how well they reproduce and blend existing styles, genres, and voices."
   ]
  },
  {
   "cell_type": "markdown",
   "id": "d044b77d-8e22-4371-86b6-d98770674b28",
   "metadata": {},
   "source": [
    "# Getting Started: Establish Your Working Directory\n",
    "\n",
    "For our projects this semester we will upload a .csv file that has a \"text\" column. This will be our input to the language model."
   ]
  },
  {
   "cell_type": "code",
   "execution_count": null,
   "id": "b4b6dc77-3c12-4e5f-a3d7-40a2d19b3a71",
   "metadata": {},
   "outputs": [],
   "source": [
    "# Import the libraries we need\n",
    "from pathlib import Path  # This helps us work with file paths\n",
    "import os                # This lets us change directories\n",
    "\n",
    "def use_jupyter_folder():\n",
    "    # Get the path to the Jupyter folder\n",
    "    jupyter_folder = Path.home() / 'Documents' / 'Jupyter'\n",
    "    \n",
    "    # Try to change to that directory\n",
    "    if jupyter_folder.exists():\n",
    "        os.chdir(jupyter_folder)\n",
    "        print(f\"✅ Now using your Jupyter folder!\")\n",
    "        print(f\"Current working directory: {Path.cwd()}\")\n",
    "    else:\n",
    "        print(\"❌ Couldn't find the Jupyter folder in Documents.\")\n",
    "        print(\"Please make sure you've created it first.\")\n",
    "\n",
    "# Run this to switch to the Jupyter folder\n",
    "use_jupyter_folder()"
   ]
  },
  {
   "attachments": {},
   "cell_type": "markdown",
   "id": "18c7032b-19da-420e-be87-76c671e12d3b",
   "metadata": {},
   "source": [
    "# Activity 1: Creative Uncreativity – Choosing a Base Text\n",
    "1.\tSelect a Text: Choose a source that is deliberately unoriginal. Some ideas:\n",
    "- Wikipedia articles\n",
    "- Instruction manuals\n",
    "- News headlines\n",
    "- Weather reports\n",
    "- Old spam emails\n",
    "- Shopping lists\n",
    "\n",
    "2.\tJustify Your Choice: Why is this text \"uncreative\"? Discuss its function, style, and lack of personal voice."
   ]
  },
  {
   "attachments": {},
   "cell_type": "markdown",
   "id": "56838bb1-654e-461a-93f3-1460bd95ccdb",
   "metadata": {},
   "source": [
    "# Activity 2: Generating (Un)Creative Texts\n",
    "\n",
    "Using the base text, generate \"unoriginal\" texts through strategic prompting.\n",
    "\n",
    "1.\tGenre Fusion: Prompt the LLM to rewrite the text using at least three established styles (e.g., Gothic horror, cyberpunk, noir).\n",
    "\n",
    "2.\tAuthor Mimicry: Ask the model to rewrite the text in the voice of famous authors (e.g., Hemingway, Austen, Pynchon).\n",
    "\n",
    "3.\tMood Transformation: Shift emotional tones while preserving content (e.g., rewrite a user manual in a tragic, ecstatic, or sarcastic tone).\n",
    "\n",
    "Example Prompt:\n",
    "\n",
    "\"Rewrite this list of traffic violations in the style of a 19th-century Gothic novel, making it as melodramatic as possible.\""
   ]
  },
  {
   "cell_type": "markdown",
   "id": "dc7a8195-5cd0-4327-b973-798635bc1c85",
   "metadata": {},
   "source": [
    "## Define your Ollama model"
   ]
  },
  {
   "cell_type": "code",
   "execution_count": null,
   "id": "543dd310-844d-42b0-a033-0c37043e85d3",
   "metadata": {
    "scrolled": true
   },
   "outputs": [],
   "source": [
    "model = \"llama3:8b\"  # Change this to your model name, e.g. \"mistral\", \"codellama\", etc.\n",
    "#!ollama pull {model}\n",
    "print(\"Done!\")"
   ]
  },
  {
   "cell_type": "markdown",
   "id": "59c45726-6507-46e1-a9e1-ee42bc6c8ebe",
   "metadata": {},
   "source": [
    "## Establish your variables\n",
    "\n",
    "Here you need to input your base text and your prompt and your model name"
   ]
  },
  {
   "cell_type": "code",
   "execution_count": null,
   "id": "3db1a59d-1f68-4dcd-a91a-4bcd839f655b",
   "metadata": {},
   "outputs": [],
   "source": [
    "##### INPUT YOUR PARAMETERS HERE #####\n",
    "MODEL_NAME = model  # Change this to match the model you're using in Ollama\n",
    "BASE_TEXT = \"TEXT\"   # Paste your base text here\n",
    "PROMPT_TEMPLATE = \"Rewrite a list of traffic violations as a brief short story in the style of a 19th-century Gothic novel, making it as melodramatic as possible.\" # Modify your prompt here"
   ]
  },
  {
   "cell_type": "markdown",
   "id": "d243f8f4-46db-4990-83df-33bf58dd645a",
   "metadata": {},
   "source": [
    "## Make Full Prompt"
   ]
  },
  {
   "cell_type": "code",
   "execution_count": null,
   "id": "52a1b2f8-ab55-40d3-a869-4526f4f20945",
   "metadata": {},
   "outputs": [],
   "source": [
    "# Construct the full model prompt\n",
    "FULL_PROMPT = f\"{PROMPT_TEMPLATE}\\n\\n{BASE_TEXT}\"\n",
    "\n",
    "# Display final prompt before sending to the model\n",
    "print(\"Final Model Prompt:\\n\")\n",
    "print(FULL_PROMPT)\n"
   ]
  },
  {
   "cell_type": "markdown",
   "id": "2d90c250-8ed7-40c6-8aa4-d2b62cd0f7f1",
   "metadata": {},
   "source": [
    "## Prompt Model"
   ]
  },
  {
   "cell_type": "code",
   "execution_count": null,
   "id": "631d8444-9016-4ca6-ab82-ba10a96caeaf",
   "metadata": {},
   "outputs": [],
   "source": [
    "import ollama\n",
    "\n",
    "# Generate the response from the model\n",
    "response = ollama.chat(model=MODEL_NAME, messages=[{\"role\": \"user\", \"content\": FULL_PROMPT}])\n",
    "\n",
    "# Display the AI-generated story\n",
    "print(\"Generated Story:\\n\")\n",
    "print(response[\"message\"][\"content\"])"
   ]
  },
  {
   "cell_type": "markdown",
   "id": "b80d225f-0118-4204-8b7c-d07229f1e6d3",
   "metadata": {},
   "source": [
    "# Activity 3: The Uncreativity Quotient\n",
    "\n",
    "Evaluate the output across two dimensions:\n",
    "\n",
    "1.\tStylistic Fidelity: How well does the model mimic the requested genres/authors?\n",
    "\n",
    "2.  Narrative Quality: How originally unoriginal is it? Define what you mean by this assessment.\n",
    "\n",
    "Each group should rank their outputs on a \"Derivative vs. Original\" scale and discuss:\n",
    "- Which prompt created the most effective uncreative writing?\n",
    "- Did the LLM introduce unintended originality?\n",
    "- What elements of creativity seem inescapable?\n"
   ]
  },
  {
   "cell_type": "markdown",
   "id": "c1d1b2a8-b05a-4f4e-84ef-8f1067d65538",
   "metadata": {},
   "source": [
    "# Activity 4: Meta-Uncreativity – Remixing the Model’s Own Output\n",
    "\n",
    "1.\tFeed the LLM’s output back into itself with a new set of prompts, such as:\n",
    "- \"Make this even more derivative.\"\n",
    "- \"Reduce all originality while keeping it readable.\"\n",
    "- \"Rewrite this in the most uninspired way possible.\"\n",
    "  \n",
    "2.\tCompare: Does the model resist pure uncreativity? Where does originality creep in?\n"
   ]
  },
  {
   "cell_type": "code",
   "execution_count": null,
   "id": "12795a54-3519-4297-9d91-c670dc33d868",
   "metadata": {},
   "outputs": [],
   "source": []
  }
 ],
 "metadata": {
  "kernelspec": {
   "display_name": "Python 3 (ipykernel)",
   "language": "python",
   "name": "python3"
  },
  "language_info": {
   "codemirror_mode": {
    "name": "ipython",
    "version": 3
   },
   "file_extension": ".py",
   "mimetype": "text/x-python",
   "name": "python",
   "nbconvert_exporter": "python",
   "pygments_lexer": "ipython3",
   "version": "3.12.1"
  }
 },
 "nbformat": 4,
 "nbformat_minor": 5
}
